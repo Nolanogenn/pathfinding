{
 "cells": [
  {
   "cell_type": "code",
   "execution_count": 1,
   "metadata": {},
   "outputs": [],
   "source": [
    "from pprint import pprint\n",
    "from numpy import random"
   ]
  },
  {
   "cell_type": "code",
   "execution_count": 245,
   "metadata": {},
   "outputs": [],
   "source": [
    "#initialization of the grid\n",
    "\n",
    "#spaces are open for movement\n",
    "# ■ represents walls\n",
    "symbols = [' ', '■']\n",
    "cols = 10\n",
    "rows = 10\n",
    "\n",
    "#we want to get from starting position S to ending position E\n",
    "#in the fewest moves possible\n",
    "\n",
    "#first we define a class representing a point on the grid\n",
    "#it has position x and y\n",
    "# value ' '\n",
    "# and a value for the num of steps to get there\n",
    "class Point:\n",
    "    def __init__(self, x, y, value=' ', steps=0):\n",
    "        self.x = x\n",
    "        self.y = y\n",
    "        self.value = value\n",
    "        self.repr = ''.join([str(self.x), str(self.y)])\n",
    "        self.steps = steps\n",
    "    def __str__(self):\n",
    "        return str({'x' : self.x, 'y':self.y, 'value':self.value})\n",
    "    def __repr__(self):\n",
    "        return ''.join([str(self.x), str(self.y)])\n",
    "\n",
    "starting_point = Point(\n",
    "    x = random.choice(range(cols)),\n",
    "    y = random.choice(range(rows)),\n",
    "    value='S')\n",
    "ending_point = Point(\n",
    "    x = random.choice(range(cols)),\n",
    "    y = random.choice(range(rows)),\n",
    "    value='E')\n",
    "\n",
    "grid = []\n",
    "for r in range(rows):\n",
    "    row = []\n",
    "    for c in range(cols):\n",
    "        if r == starting_point.x and c == starting_point.y:\n",
    "            row.append(starting_point.value)\n",
    "        elif r == ending_point.x and c == ending_point.y:\n",
    "            row.append(ending_point.value)\n",
    "        else:\n",
    "            row.append(random.choice(symbols, 1, p=[0.7, 0.3])[0])\n",
    "    grid.append(row)"
   ]
  },
  {
   "cell_type": "code",
   "execution_count": 246,
   "metadata": {},
   "outputs": [
    {
     "data": {
      "text/plain": [
       "[[' ', ' ', ' ', ' ', ' ', '■', '■', ' ', ' ', ' '],\n",
       " [' ', ' ', ' ', ' ', '■', ' ', ' ', ' ', ' ', ' '],\n",
       " ['■', ' ', 'S', '■', ' ', ' ', ' ', ' ', '■', ' '],\n",
       " [' ', ' ', ' ', ' ', ' ', ' ', '■', '■', '■', ' '],\n",
       " [' ', '■', ' ', ' ', '■', '■', ' ', '■', ' ', '■'],\n",
       " [' ', ' ', ' ', '■', ' ', '■', '■', ' ', ' ', ' '],\n",
       " ['■', '■', ' ', '■', ' ', ' ', ' ', ' ', ' ', '■'],\n",
       " ['■', ' ', ' ', '■', '■', ' ', ' ', '■', ' ', '■'],\n",
       " [' ', ' ', ' ', '■', '■', '■', '■', ' ', '■', '■'],\n",
       " ['■', 'E', '■', ' ', '■', ' ', ' ', ' ', ' ', ' ']]"
      ]
     },
     "execution_count": 246,
     "metadata": {},
     "output_type": "execute_result"
    }
   ],
   "source": [
    "grid"
   ]
  },
  {
   "cell_type": "code",
   "execution_count": 247,
   "metadata": {},
   "outputs": [],
   "source": [
    "#we define a function to get possible next movement\n",
    "#in the form of neighbors that are not wall\n",
    "def getNeighbors(point, grid, current_steps):\n",
    "    queue = []\n",
    "    num_rows = len(grid)\n",
    "    num_cols = len(grid[0])\n",
    "    x = point.x\n",
    "    y = point.y\n",
    "    steps=current_steps+1\n",
    "    #up\n",
    "    if point.x > 0:\n",
    "        newpoint = Point(x=x-1,y=y,value=grid[x-1][y],steps=steps)\n",
    "        queue.append(newpoint)\n",
    "    #down\n",
    "    if x < num_rows -1:\n",
    "        newpoint = Point(x=x+1,y=y,value=grid[x+1][y],steps=steps)\n",
    "        queue.append(newpoint)\n",
    "    #left\n",
    "    if y > 0:\n",
    "        newpoint = Point(x=x,y=y-1,value=grid[x][y-1],steps=steps)\n",
    "        queue.append(newpoint)\n",
    "    #right\n",
    "    if y < num_cols -1:\n",
    "        newpoint = Point(x=x,y=y+1,value=grid[x][y+1],steps=steps)\n",
    "        queue.append(newpoint)\n",
    "    queue = [m for m in queue if m.value != '■']\n",
    "    return queue"
   ]
  },
  {
   "cell_type": "code",
   "execution_count": 248,
   "metadata": {},
   "outputs": [],
   "source": [
    "#bds\n",
    "\n",
    "frontier = getNeighbors(starting_point, grid,0)\n",
    "came_from = {}\n",
    "#for i in range(rows):\n",
    "#    for j in range(cols):\n",
    "#        came_from[''.join([str(i), str(j)])] = []\n",
    "        \n",
    "for f in frontier:\n",
    "    came_from[f.repr] = starting_point\n",
    "came_from[starting_point.repr] = None\n",
    "\n",
    "min_steps = 999999\n",
    "while frontier:\n",
    "    current = frontier.pop(0)\n",
    "    steps = current.steps\n",
    "    for n in getNeighbors(current, grid,steps):\n",
    "        if n.value == 'E':\n",
    "            if n.steps <= min_steps:\n",
    "                came_from[n.repr] = current\n",
    "                min_steps = n.steps\n",
    "            pass\n",
    "        elif n.repr not in came_from:\n",
    "            frontier.append(n)\n",
    "            came_from[n.repr] = current\n",
    "            "
   ]
  },
  {
   "cell_type": "code",
   "execution_count": 261,
   "metadata": {},
   "outputs": [],
   "source": [
    "#draw the path\n",
    "current = came_from[ending_point.repr]\n",
    "path = []\n",
    "while current.repr != starting_point.repr:\n",
    "    path.append(current.repr)\n",
    "    current = came_from[current.repr]\n",
    "for p in path:\n",
    "    cell = [int(x) for x in list(p)]\n",
    "    grid[cell[0]][cell[1]] = '*'"
   ]
  },
  {
   "cell_type": "code",
   "execution_count": 262,
   "metadata": {},
   "outputs": [
    {
     "data": {
      "text/plain": [
       "[[' ', ' ', ' ', ' ', ' ', '■', '■', ' ', ' ', ' '],\n",
       " [' ', ' ', ' ', ' ', '■', ' ', ' ', ' ', ' ', ' '],\n",
       " ['■', ' ', 'S', '■', ' ', ' ', ' ', ' ', '■', ' '],\n",
       " [' ', ' ', '*', ' ', ' ', ' ', '■', '■', '■', ' '],\n",
       " [' ', '■', '*', ' ', '■', '■', ' ', '■', ' ', '■'],\n",
       " [' ', ' ', '*', '■', ' ', '■', '■', ' ', ' ', ' '],\n",
       " ['■', '■', '*', '■', ' ', ' ', ' ', ' ', ' ', '■'],\n",
       " ['■', ' ', '*', '■', '■', ' ', ' ', '■', ' ', '■'],\n",
       " [' ', '*', '*', '■', '■', '■', '■', ' ', '■', '■'],\n",
       " ['■', 'E', '■', ' ', '■', ' ', ' ', ' ', ' ', ' ']]"
      ]
     },
     "execution_count": 262,
     "metadata": {},
     "output_type": "execute_result"
    }
   ],
   "source": [
    "grid"
   ]
  },
  {
   "cell_type": "markdown",
   "metadata": {},
   "source": [
    "Dijkstra with movements costs"
   ]
  },
  {
   "cell_type": "code",
   "execution_count": 38,
   "metadata": {},
   "outputs": [],
   "source": [
    "#initialization of the grid\n",
    "\n",
    "#spaces are open for movement\n",
    "# ■ represents walls (cost = infinite)\n",
    "# ░ represents swamp (cost = 5)\n",
    "symbols = [' ', '■', '░']\n",
    "mov_cost = {' ' : 1, '░' : 5, '■' : 9999, 'S' : 9999, 'E' : 9999}\n",
    "costs = {}\n",
    "cols = 10\n",
    "rows = 10\n",
    "\n",
    "#we want to get from starting position S to ending position E\n",
    "#in the fewest moves possible\n",
    "\n",
    "#first we define a class representing a point on the grid\n",
    "#it has position x and y\n",
    "# value ' '\n",
    "# and a value for the num of steps to get there\n",
    "class Point:\n",
    "    def __init__(self, x, y, value=' ', steps=0):\n",
    "        self.x = x\n",
    "        self.y = y\n",
    "        self.value = value\n",
    "        self.repr = ''.join([str(self.x), str(self.y)])\n",
    "        self.steps = steps\n",
    "    def __str__(self):\n",
    "        return str({'x' : self.x, 'y':self.y, 'value':self.value})\n",
    "    def __repr__(self):\n",
    "        return ''.join([str(self.x), str(self.y)])\n",
    "\n",
    "starting_point = Point(\n",
    "    x = random.choice(range(cols)),\n",
    "    y = random.choice(range(rows)),\n",
    "    value='S')\n",
    "ending_point = Point(\n",
    "    x = random.choice(range(cols)),\n",
    "    y = random.choice(range(rows)),\n",
    "    value='E')\n",
    "\n",
    "grid = []\n",
    "for r in range(rows):\n",
    "    row = []\n",
    "    for c in range(cols):\n",
    "        if r == starting_point.x and c == starting_point.y:\n",
    "            row.append(starting_point.value)\n",
    "            costs[''.join([str(r), str(c)])] = 9999\n",
    "        elif r == ending_point.x and c == ending_point.y:\n",
    "            row.append(ending_point.value)\n",
    "            costs[''.join([str(r), str(c)])] = 9999\n",
    "        else:\n",
    "            to_append = random.choice(symbols, 1, p=[0.5, 0.2, 0.3])[0]\n",
    "            costs[''.join([str(r), str(c)])] = mov_cost[to_append]\n",
    "            row.append(to_append)\n",
    "    grid.append(row)"
   ]
  },
  {
   "cell_type": "code",
   "execution_count": 39,
   "metadata": {
    "scrolled": false
   },
   "outputs": [
    {
     "data": {
      "text/plain": [
       "[['S', ' ', ' ', '■', ' ', '░', ' ', ' ', '░', '░'],\n",
       " [' ', ' ', ' ', ' ', ' ', ' ', '░', ' ', '■', '░'],\n",
       " [' ', '░', '■', '░', '■', ' ', ' ', ' ', ' ', 'E'],\n",
       " [' ', '■', ' ', '░', '░', '■', ' ', '■', ' ', ' '],\n",
       " ['■', ' ', '░', '■', '░', ' ', '░', ' ', '■', ' '],\n",
       " [' ', ' ', '░', '░', '■', '░', '░', ' ', '░', ' '],\n",
       " [' ', '■', ' ', '■', '■', '░', '■', ' ', '░', ' '],\n",
       " ['░', ' ', ' ', '░', '░', ' ', '░', ' ', ' ', ' '],\n",
       " [' ', ' ', ' ', '░', '■', '░', '░', ' ', '░', '░'],\n",
       " ['░', '░', '■', '■', ' ', ' ', '░', '░', '░', '░']]"
      ]
     },
     "execution_count": 39,
     "metadata": {},
     "output_type": "execute_result"
    }
   ],
   "source": [
    "grid"
   ]
  },
  {
   "cell_type": "code",
   "execution_count": 40,
   "metadata": {},
   "outputs": [],
   "source": [
    "#we define a function to get possible next movement\n",
    "#in the form of neighbors that are not wall\n",
    "#with djikstra, we want the queue to be ordered based on the cost of movement\n",
    "def getNeighbors(point, grid, current_steps):\n",
    "    queue = []\n",
    "    num_rows = len(grid)\n",
    "    num_cols = len(grid[0])\n",
    "    x = point.x\n",
    "    y = point.y\n",
    "    steps=current_steps+1\n",
    "    #up\n",
    "    if point.x > 0:\n",
    "        newpoint = Point(x=x-1,y=y,value=grid[x-1][y],steps=steps)\n",
    "        queue.append(newpoint)\n",
    "    #down\n",
    "    if x < num_rows -1:\n",
    "        newpoint = Point(x=x+1,y=y,value=grid[x+1][y],steps=steps)\n",
    "        queue.append(newpoint)\n",
    "    #left\n",
    "    if y > 0:\n",
    "        newpoint = Point(x=x,y=y-1,value=grid[x][y-1],steps=steps)\n",
    "        queue.append(newpoint)\n",
    "    #right\n",
    "    if y < num_cols -1:\n",
    "        newpoint = Point(x=x,y=y+1,value=grid[x][y+1],steps=steps)\n",
    "        queue.append(newpoint)\n",
    "    queue = [m for m in queue if m.value != '■']\n",
    "    queue = sorted(queue, key=lambda x: costs[x.repr])\n",
    "    return queue"
   ]
  },
  {
   "cell_type": "code",
   "execution_count": 41,
   "metadata": {},
   "outputs": [],
   "source": [
    "#dijkstra\n",
    "\n",
    "frontier = getNeighbors(starting_point, grid,0)\n",
    "came_from = {}\n",
    "cost_so_far = {}\n",
    "\n",
    "came_from[starting_point.repr] = None\n",
    "cost_so_far[starting_point.repr] = 0\n",
    "for f in frontier:\n",
    "    came_from[f.repr] = starting_point\n",
    "    cost_so_far[f.repr] = costs[f.repr]\n",
    "\n",
    "min_cost = 999999\n",
    "while frontier:\n",
    "    current = frontier.pop(0)\n",
    "    cost = cost_so_far[current.repr]\n",
    "    steps = current.steps\n",
    "    for n in getNeighbors(current, grid,steps):\n",
    "        new_cost = cost + costs[n.repr] + steps\n",
    "        if n.value != 'E':\n",
    "            if n.repr not in cost_so_far:\n",
    "                frontier.append(n)\n",
    "                came_from[n.repr] = current\n",
    "                cost_so_far[n.repr] = new_cost\n",
    "            else:\n",
    "                if new_cost < cost_so_far[n.repr]:\n",
    "                    frontier.append(n)\n",
    "                    came_from[n.repr] = current\n",
    "                    cost_so_far[n.repr] = new_cost\n",
    "        elif n.value == 'E':\n",
    "            if new_cost <= min_cost:\n",
    "                came_from[n.repr] = current\n",
    "                min_steps = n.steps\n",
    "            continue"
   ]
  },
  {
   "cell_type": "code",
   "execution_count": 27,
   "metadata": {},
   "outputs": [
    {
     "data": {
      "text/plain": [
       "[[' ', '■', ' ', '■', '■', ' ', '░', ' ', '░', '■'],\n",
       " ['■', '■', ' ', '░', ' ', '░', ' ', ' ', ' ', ' '],\n",
       " ['■', '░', ' ', ' ', ' ', ' ', ' ', '░', ' ', ' '],\n",
       " ['■', '░', ' ', ' ', ' ', '░', ' ', ' ', '■', '░'],\n",
       " ['░', '■', '░', '■', '░', ' ', ' ', '░', '░', ' '],\n",
       " ['■', ' ', ' ', '■', ' ', '░', '░', '■', ' ', '░'],\n",
       " [' ', ' ', '■', '░', ' ', ' ', '■', '■', ' ', '░'],\n",
       " [' ', '░', '░', ' ', '░', ' ', 'S', '░', ' ', '■'],\n",
       " ['░', '░', ' ', ' ', '░', '░', '*', '*', '*', '*'],\n",
       " [' ', '■', '░', '░', ' ', ' ', '░', '░', 'E', '*']]"
      ]
     },
     "execution_count": 27,
     "metadata": {},
     "output_type": "execute_result"
    }
   ],
   "source": [
    "#draw the path\n",
    "current = came_from[ending_point.repr]\n",
    "path = []\n",
    "while current.repr != starting_point.repr:\n",
    "    path.append(current.repr)\n",
    "    current = came_from[current.repr]\n",
    "for p in path:\n",
    "    cell = [int(x) for x in list(p)]\n",
    "    grid[cell[0]][cell[1]] = '*'\n",
    "grid"
   ]
  },
  {
   "cell_type": "markdown",
   "metadata": {},
   "source": [
    "Heuristic search"
   ]
  },
  {
   "cell_type": "code",
   "execution_count": 42,
   "metadata": {},
   "outputs": [],
   "source": [
    "#we integrate information about where the goal is\n",
    "\n",
    "def distance(a, b):\n",
    "    #manhattan distance\n",
    "    return abs(a.x - b.x) + abs(a.y - b.y)"
   ]
  },
  {
   "cell_type": "code",
   "execution_count": 43,
   "metadata": {},
   "outputs": [],
   "source": [
    "#we define a function to get possible next movement\n",
    "#in the form of neighbors that are not wall\n",
    "#with djikstra, we want the queue to be ordered based on the cost of movement\n",
    "#we want to integrate heuristics about distance as well\n",
    "def getNeighbors(point, grid, current_steps, costs, goal):\n",
    "    queue = []\n",
    "    num_rows = len(grid)\n",
    "    num_cols = len(grid[0])\n",
    "    x = point.x\n",
    "    y = point.y\n",
    "    steps=current_steps+1\n",
    "    tmp_costs = dict()\n",
    "    #up\n",
    "    if point.x > 0:\n",
    "        newpoint = Point(x=x-1,y=y,value=grid[x-1][y],steps=steps)\n",
    "        queue.append(newpoint)\n",
    "    #down\n",
    "    if x < num_rows -1:\n",
    "        newpoint = Point(x=x+1,y=y,value=grid[x+1][y],steps=steps)\n",
    "        queue.append(newpoint)\n",
    "    #left\n",
    "    if y > 0:\n",
    "        newpoint = Point(x=x,y=y-1,value=grid[x][y-1],steps=steps)\n",
    "        queue.append(newpoint)\n",
    "    #right\n",
    "    if y < num_cols -1:\n",
    "        newpoint = Point(x=x,y=y+1,value=grid[x][y+1],steps=steps)\n",
    "        queue.append(newpoint)\n",
    "    queue = [m for m in queue if m.value != '■']\n",
    "    for q in queue:\n",
    "        tmp_costs[q.repr] = costs[q.repr] + distance(q, goal)\n",
    "    queue = sorted(queue, key=lambda x: tmp_costs[x.repr])\n",
    "    return queue"
   ]
  },
  {
   "cell_type": "code",
   "execution_count": 44,
   "metadata": {},
   "outputs": [],
   "source": [
    "#dijkstra + heuristics\n",
    "frontier = getNeighbors(starting_point, grid,0, costs, ending_point)\n",
    "came_from = {}\n",
    "cost_so_far = {}\n",
    "\n",
    "came_from[starting_point.repr] = None\n",
    "cost_so_far[starting_point.repr] = 0\n",
    "for f in frontier:\n",
    "    came_from[f.repr] = starting_point\n",
    "    cost_so_far[f.repr] = costs[f.repr]\n",
    "\n",
    "min_cost = 999999\n",
    "while frontier:\n",
    "    current = frontier.pop(0)\n",
    "    cost = cost_so_far[current.repr]\n",
    "    steps = current.steps\n",
    "    for n in getNeighbors(current, grid,steps, costs, ending_point):\n",
    "        new_cost = cost + costs[n.repr] + steps + distance(n, ending_point)\n",
    "        if n.value != 'E':\n",
    "            if n.repr not in cost_so_far:\n",
    "                frontier.append(n)\n",
    "                came_from[n.repr] = current\n",
    "                cost_so_far[n.repr] = new_cost\n",
    "            else:\n",
    "                if new_cost < cost_so_far[n.repr]:\n",
    "                    frontier.append(n)\n",
    "                    came_from[n.repr] = current\n",
    "                    cost_so_far[n.repr] = new_cost\n",
    "        elif n.value == 'E':\n",
    "            if new_cost <= min_cost:\n",
    "                came_from[n.repr] = current\n",
    "                min_steps = n.steps\n",
    "            break"
   ]
  },
  {
   "cell_type": "code",
   "execution_count": 45,
   "metadata": {},
   "outputs": [
    {
     "name": "stdout",
     "output_type": "stream",
     "text": [
      "[28, 39, 19]\n"
     ]
    }
   ],
   "source": [
    "frontier = getNeighbors(ending_point, grid,0, costs, starting_point)\n",
    "print(frontier)"
   ]
  },
  {
   "cell_type": "code",
   "execution_count": 46,
   "metadata": {},
   "outputs": [
    {
     "data": {
      "text/plain": [
       "00"
      ]
     },
     "execution_count": 46,
     "metadata": {},
     "output_type": "execute_result"
    }
   ],
   "source": [
    "starting_point"
   ]
  },
  {
   "cell_type": "code",
   "execution_count": 47,
   "metadata": {},
   "outputs": [
    {
     "data": {
      "text/plain": [
       "[['S', ' ', ' ', '■', ' ', '░', ' ', '*', '*', '*'],\n",
       " ['*', '*', '*', '*', '*', '*', '*', '*', '■', '*'],\n",
       " [' ', '░', '■', '░', '■', ' ', ' ', ' ', ' ', 'E'],\n",
       " [' ', '■', ' ', '░', '░', '■', ' ', '■', ' ', ' '],\n",
       " ['■', ' ', '░', '■', '░', ' ', '░', ' ', '■', ' '],\n",
       " [' ', ' ', '░', '░', '■', '░', '░', ' ', '░', ' '],\n",
       " [' ', '■', ' ', '■', '■', '░', '■', ' ', '░', ' '],\n",
       " ['░', ' ', ' ', '░', '░', ' ', '░', ' ', ' ', ' '],\n",
       " [' ', ' ', ' ', '░', '■', '░', '░', ' ', '░', '░'],\n",
       " ['░', '░', '■', '■', ' ', ' ', '░', '░', '░', '░']]"
      ]
     },
     "execution_count": 47,
     "metadata": {},
     "output_type": "execute_result"
    }
   ],
   "source": [
    "current = came_from[ending_point.repr]\n",
    "path = []\n",
    "while current.repr != starting_point.repr:\n",
    "    path.append(current.repr)\n",
    "    current = came_from[current.repr]\n",
    "for p in path:\n",
    "    cell = [int(x) for x in list(p)]\n",
    "    grid[cell[0]][cell[1]] = '*'\n",
    "grid"
   ]
  },
  {
   "cell_type": "code",
   "execution_count": null,
   "metadata": {},
   "outputs": [],
   "source": []
  }
 ],
 "metadata": {
  "kernelspec": {
   "display_name": "Python 3 (ipykernel)",
   "language": "python",
   "name": "python3"
  },
  "language_info": {
   "codemirror_mode": {
    "name": "ipython",
    "version": 3
   },
   "file_extension": ".py",
   "mimetype": "text/x-python",
   "name": "python",
   "nbconvert_exporter": "python",
   "pygments_lexer": "ipython3",
   "version": "3.10.4"
  }
 },
 "nbformat": 4,
 "nbformat_minor": 4
}
