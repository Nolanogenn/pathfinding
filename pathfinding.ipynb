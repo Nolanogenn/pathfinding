{
 "cells": [
  {
   "cell_type": "code",
   "execution_count": 221,
   "metadata": {},
   "outputs": [],
   "source": [
    "from pprint import pprint\n",
    "from numpy import random"
   ]
  },
  {
   "cell_type": "code",
   "execution_count": 245,
   "metadata": {},
   "outputs": [],
   "source": [
    "#initialization of the grid\n",
    "\n",
    "#spaces are open for movement\n",
    "# ■ represents walls\n",
    "symbols = [' ', '■']\n",
    "cols = 10\n",
    "rows = 10\n",
    "\n",
    "#we want to get from starting position S to ending position E\n",
    "#in the fewest moves possible\n",
    "\n",
    "#first we define a class representing a point on the grid\n",
    "#it has position x and y\n",
    "# value ' '\n",
    "# and a value for the num of steps to get there\n",
    "class Point:\n",
    "    def __init__(self, x, y, value=' ', steps=0):\n",
    "        self.x = x\n",
    "        self.y = y\n",
    "        self.value = value\n",
    "        self.repr = ''.join([str(self.x), str(self.y)])\n",
    "        self.steps = steps\n",
    "    def __str__(self):\n",
    "        return str({'x' : self.x, 'y':self.y, 'value':self.value})\n",
    "    def __repr__(self):\n",
    "        return ''.join([str(self.x), str(self.y)])\n",
    "\n",
    "starting_point = Point(\n",
    "    x = random.choice(range(cols)),\n",
    "    y = random.choice(range(rows)),\n",
    "    value='S')\n",
    "ending_point = Point(\n",
    "    x = random.choice(range(cols)),\n",
    "    y = random.choice(range(rows)),\n",
    "    value='E')\n",
    "\n",
    "grid = []\n",
    "for r in range(rows):\n",
    "    row = []\n",
    "    for c in range(cols):\n",
    "        if r == starting_point.x and c == starting_point.y:\n",
    "            row.append(starting_point.value)\n",
    "        elif r == ending_point.x and c == ending_point.y:\n",
    "            row.append(ending_point.value)\n",
    "        else:\n",
    "            row.append(random.choice(symbols, 1, p=[0.7, 0.3])[0])\n",
    "    grid.append(row)"
   ]
  },
  {
   "cell_type": "code",
   "execution_count": 246,
   "metadata": {},
   "outputs": [
    {
     "data": {
      "text/plain": [
       "[[' ', ' ', ' ', ' ', ' ', '■', '■', ' ', ' ', ' '],\n",
       " [' ', ' ', ' ', ' ', '■', ' ', ' ', ' ', ' ', ' '],\n",
       " ['■', ' ', 'S', '■', ' ', ' ', ' ', ' ', '■', ' '],\n",
       " [' ', ' ', ' ', ' ', ' ', ' ', '■', '■', '■', ' '],\n",
       " [' ', '■', ' ', ' ', '■', '■', ' ', '■', ' ', '■'],\n",
       " [' ', ' ', ' ', '■', ' ', '■', '■', ' ', ' ', ' '],\n",
       " ['■', '■', ' ', '■', ' ', ' ', ' ', ' ', ' ', '■'],\n",
       " ['■', ' ', ' ', '■', '■', ' ', ' ', '■', ' ', '■'],\n",
       " [' ', ' ', ' ', '■', '■', '■', '■', ' ', '■', '■'],\n",
       " ['■', 'E', '■', ' ', '■', ' ', ' ', ' ', ' ', ' ']]"
      ]
     },
     "execution_count": 246,
     "metadata": {},
     "output_type": "execute_result"
    }
   ],
   "source": [
    "grid"
   ]
  },
  {
   "cell_type": "code",
   "execution_count": 247,
   "metadata": {},
   "outputs": [],
   "source": [
    "#we define a function to get possible next movement\n",
    "#in the form of neighbors that are not wall\n",
    "def getNeighbors(point, grid, current_steps):\n",
    "    queue = []\n",
    "    num_rows = len(grid)\n",
    "    num_cols = len(grid[0])\n",
    "    x = point.x\n",
    "    y = point.y\n",
    "    steps=current_steps+1\n",
    "    #up\n",
    "    if point.x > 0:\n",
    "        newpoint = Point(x=x-1,y=y,value=grid[x-1][y],steps=steps)\n",
    "        queue.append(newpoint)\n",
    "    #down\n",
    "    if x < num_rows -1:\n",
    "        newpoint = Point(x=x+1,y=y,value=grid[x+1][y],steps=steps)\n",
    "        queue.append(newpoint)\n",
    "    #left\n",
    "    if y > 0:\n",
    "        newpoint = Point(x=x,y=y-1,value=grid[x][y-1],steps=steps)\n",
    "        queue.append(newpoint)\n",
    "    #right\n",
    "    if y < num_cols -1:\n",
    "        newpoint = Point(x=x,y=y+1,value=grid[x][y+1],steps=steps)\n",
    "        queue.append(newpoint)\n",
    "    queue = [m for m in queue if m.value != '■']\n",
    "    return queue"
   ]
  },
  {
   "cell_type": "code",
   "execution_count": 248,
   "metadata": {},
   "outputs": [],
   "source": [
    "#bds\n",
    "\n",
    "frontier = getNeighbors(starting_point, grid,0)\n",
    "came_from = {}\n",
    "#for i in range(rows):\n",
    "#    for j in range(cols):\n",
    "#        came_from[''.join([str(i), str(j)])] = []\n",
    "        \n",
    "for f in frontier:\n",
    "    came_from[f.repr] = starting_point\n",
    "came_from[starting_point.repr] = None\n",
    "\n",
    "min_steps = 999999\n",
    "while frontier:\n",
    "    current = frontier.pop(0)\n",
    "    steps = current.steps\n",
    "    for n in getNeighbors(current, grid,steps):\n",
    "        if n.value == 'E':\n",
    "            if n.steps <= min_steps:\n",
    "                came_from[n.repr] = current\n",
    "                min_steps = n.steps\n",
    "            pass\n",
    "        elif n.repr not in came_from:\n",
    "            frontier.append(n)\n",
    "            came_from[n.repr] = current\n",
    "            "
   ]
  },
  {
   "cell_type": "code",
   "execution_count": 261,
   "metadata": {},
   "outputs": [],
   "source": [
    "#draw the path\n",
    "current = came_from[ending_point.repr]\n",
    "path = []\n",
    "while current.repr != starting_point.repr:\n",
    "    path.append(current.repr)\n",
    "    current = came_from[current.repr]\n",
    "for p in path:\n",
    "    cell = [int(x) for x in list(p)]\n",
    "    grid[cell[0]][cell[1]] = '*'"
   ]
  },
  {
   "cell_type": "code",
   "execution_count": 262,
   "metadata": {},
   "outputs": [
    {
     "data": {
      "text/plain": [
       "[[' ', ' ', ' ', ' ', ' ', '■', '■', ' ', ' ', ' '],\n",
       " [' ', ' ', ' ', ' ', '■', ' ', ' ', ' ', ' ', ' '],\n",
       " ['■', ' ', 'S', '■', ' ', ' ', ' ', ' ', '■', ' '],\n",
       " [' ', ' ', '*', ' ', ' ', ' ', '■', '■', '■', ' '],\n",
       " [' ', '■', '*', ' ', '■', '■', ' ', '■', ' ', '■'],\n",
       " [' ', ' ', '*', '■', ' ', '■', '■', ' ', ' ', ' '],\n",
       " ['■', '■', '*', '■', ' ', ' ', ' ', ' ', ' ', '■'],\n",
       " ['■', ' ', '*', '■', '■', ' ', ' ', '■', ' ', '■'],\n",
       " [' ', '*', '*', '■', '■', '■', '■', ' ', '■', '■'],\n",
       " ['■', 'E', '■', ' ', '■', ' ', ' ', ' ', ' ', ' ']]"
      ]
     },
     "execution_count": 262,
     "metadata": {},
     "output_type": "execute_result"
    }
   ],
   "source": [
    "grid"
   ]
  },
  {
   "cell_type": "markdown",
   "metadata": {},
   "source": [
    "Dijkstra with movements costs"
   ]
  },
  {
   "cell_type": "code",
   "execution_count": 313,
   "metadata": {},
   "outputs": [],
   "source": [
    "#initialization of the grid\n",
    "\n",
    "#spaces are open for movement\n",
    "# ■ represents walls (cost = infinite)\n",
    "# ░ represents swamp (cost = 5)\n",
    "symbols = [' ', '■', '░']\n",
    "mov_cost = {' ' : 1, '░' : 5, '■' : 9999, 'S' : 9999, 'E' : 9999}\n",
    "costs = {}\n",
    "cols = 10\n",
    "rows = 10\n",
    "\n",
    "#we want to get from starting position S to ending position E\n",
    "#in the fewest moves possible\n",
    "\n",
    "#first we define a class representing a point on the grid\n",
    "#it has position x and y\n",
    "# value ' '\n",
    "# and a value for the num of steps to get there\n",
    "class Point:\n",
    "    def __init__(self, x, y, value=' ', steps=0):\n",
    "        self.x = x\n",
    "        self.y = y\n",
    "        self.value = value\n",
    "        self.repr = ''.join([str(self.x), str(self.y)])\n",
    "        self.steps = steps\n",
    "    def __str__(self):\n",
    "        return str({'x' : self.x, 'y':self.y, 'value':self.value})\n",
    "    def __repr__(self):\n",
    "        return ''.join([str(self.x), str(self.y)])\n",
    "\n",
    "starting_point = Point(\n",
    "    x = random.choice(range(cols)),\n",
    "    y = random.choice(range(rows)),\n",
    "    value='S')\n",
    "ending_point = Point(\n",
    "    x = random.choice(range(cols)),\n",
    "    y = random.choice(range(rows)),\n",
    "    value='E')\n",
    "\n",
    "grid = []\n",
    "for r in range(rows):\n",
    "    row = []\n",
    "    for c in range(cols):\n",
    "        if r == starting_point.x and c == starting_point.y:\n",
    "            row.append(starting_point.value)\n",
    "            costs[''.join([str(r), str(c)])] = 9999\n",
    "        elif r == ending_point.x and c == ending_point.y:\n",
    "            row.append(ending_point.value)\n",
    "            costs[''.join([str(r), str(c)])] = 9999\n",
    "        else:\n",
    "            to_append = random.choice(symbols, 1, p=[0.5, 0.2, 0.3])[0]\n",
    "            costs[''.join([str(r), str(c)])] = mov_cost[to_append]\n",
    "            row.append(to_append)\n",
    "    grid.append(row)"
   ]
  },
  {
   "cell_type": "code",
   "execution_count": 314,
   "metadata": {},
   "outputs": [
    {
     "data": {
      "text/plain": [
       "[['░', '░', ' ', '░', ' ', '░', '░', ' ', 'E', ' '],\n",
       " ['░', ' ', '■', '■', '░', '■', ' ', '░', ' ', ' '],\n",
       " [' ', '░', '░', '░', '■', ' ', ' ', '░', ' ', ' '],\n",
       " [' ', '░', ' ', ' ', '░', ' ', '■', ' ', '■', '░'],\n",
       " [' ', '■', '■', '░', ' ', ' ', '░', '░', '░', '■'],\n",
       " ['■', ' ', '░', ' ', ' ', '░', '░', '■', '░', 'S'],\n",
       " ['░', '■', ' ', ' ', '░', ' ', '░', ' ', '■', '░'],\n",
       " ['■', '░', ' ', ' ', '░', ' ', '■', ' ', ' ', ' '],\n",
       " [' ', '░', ' ', '░', ' ', ' ', ' ', ' ', '░', '░'],\n",
       " [' ', ' ', '░', ' ', '■', ' ', ' ', ' ', ' ', ' ']]"
      ]
     },
     "execution_count": 314,
     "metadata": {},
     "output_type": "execute_result"
    }
   ],
   "source": [
    "grid"
   ]
  },
  {
   "cell_type": "code",
   "execution_count": 309,
   "metadata": {},
   "outputs": [],
   "source": [
    "#we define a function to get possible next movement\n",
    "#in the form of neighbors that are not wall\n",
    "#with djikstra, we want the queue to be ordered based on the cost of movement\n",
    "def getNeighbors(point, grid, current_steps):\n",
    "    queue = []\n",
    "    num_rows = len(grid)\n",
    "    num_cols = len(grid[0])\n",
    "    x = point.x\n",
    "    y = point.y\n",
    "    steps=current_steps+1\n",
    "    #up\n",
    "    if point.x > 0:\n",
    "        newpoint = Point(x=x-1,y=y,value=grid[x-1][y],steps=steps)\n",
    "        queue.append(newpoint)\n",
    "    #down\n",
    "    if x < num_rows -1:\n",
    "        newpoint = Point(x=x+1,y=y,value=grid[x+1][y],steps=steps)\n",
    "        queue.append(newpoint)\n",
    "    #left\n",
    "    if y > 0:\n",
    "        newpoint = Point(x=x,y=y-1,value=grid[x][y-1],steps=steps)\n",
    "        queue.append(newpoint)\n",
    "    #right\n",
    "    if y < num_cols -1:\n",
    "        newpoint = Point(x=x,y=y+1,value=grid[x][y+1],steps=steps)\n",
    "        queue.append(newpoint)\n",
    "    queue = [m for m in queue if m.value != '■']\n",
    "    queue = sorted(queue, key=lambda x: costs[x.repr])\n",
    "    return queue"
   ]
  },
  {
   "cell_type": "code",
   "execution_count": 310,
   "metadata": {},
   "outputs": [
    {
     "name": "stdout",
     "output_type": "stream",
     "text": [
      "{'x': 6, 'y': 4, 'value': ' '}\n",
      "{'x': 5, 'y': 3, 'value': ' '}\n",
      "{'x': 5, 'y': 5, 'value': ' '}\n",
      "{'x': 4, 'y': 4, 'value': '░'}\n",
      "{'x': 7, 'y': 4, 'value': '░'}\n",
      "{'x': 6, 'y': 5, 'value': '░'}\n",
      "{'x': 4, 'y': 3, 'value': ' '}\n",
      "{'x': 5, 'y': 2, 'value': ' '}\n",
      "{'x': 4, 'y': 5, 'value': ' '}\n",
      "{'x': 8, 'y': 4, 'value': '░'}\n",
      "{'x': 6, 'y': 6, 'value': ' '}\n",
      "{'x': 4, 'y': 2, 'value': '░'}\n",
      "{'x': 6, 'y': 2, 'value': ' '}\n",
      "{'x': 5, 'y': 1, 'value': '░'}\n",
      "{'x': 9, 'y': 4, 'value': ' '}\n",
      "{'x': 8, 'y': 3, 'value': ' '}\n",
      "{'x': 8, 'y': 5, 'value': '░'}\n",
      "{'x': 7, 'y': 6, 'value': '░'}\n",
      "{'x': 6, 'y': 7, 'value': '░'}\n",
      "{'x': 3, 'y': 2, 'value': ' '}\n",
      "{'x': 4, 'y': 1, 'value': ' '}\n",
      "{'x': 7, 'y': 2, 'value': ' '}\n",
      "{'x': 6, 'y': 1, 'value': ' '}\n",
      "{'x': 5, 'y': 0, 'value': ' '}\n",
      "{'x': 9, 'y': 5, 'value': ' '}\n",
      "{'x': 8, 'y': 2, 'value': '░'}\n",
      "{'x': 8, 'y': 6, 'value': '░'}\n",
      "{'x': 7, 'y': 7, 'value': ' '}\n",
      "{'x': 5, 'y': 7, 'value': '░'}\n",
      "{'x': 3, 'y': 1, 'value': ' '}\n",
      "{'x': 4, 'y': 0, 'value': ' '}\n",
      "{'x': 7, 'y': 1, 'value': '░'}\n",
      "{'x': 6, 'y': 0, 'value': '░'}\n",
      "{'x': 8, 'y': 1, 'value': '░'}\n",
      "{'x': 5, 'y': 8, 'value': ' '}\n",
      "{'x': 2, 'y': 1, 'value': ' '}\n",
      "{'x': 3, 'y': 0, 'value': '░'}\n",
      "{'x': 7, 'y': 0, 'value': '░'}\n",
      "{'x': 8, 'y': 0, 'value': ' '}\n",
      "{'x': 5, 'y': 9, 'value': ' '}\n",
      "{'x': 4, 'y': 8, 'value': '░'}\n",
      "{'x': 1, 'y': 1, 'value': ' '}\n",
      "{'x': 2, 'y': 0, 'value': '░'}\n",
      "{'x': 9, 'y': 0, 'value': ' '}\n",
      "{'x': 4, 'y': 9, 'value': ' '}\n",
      "{'x': 3, 'y': 8, 'value': ' '}\n",
      "{'x': 0, 'y': 1, 'value': ' '}\n",
      "{'x': 1, 'y': 2, 'value': ' '}\n",
      "{'x': 2, 'y': 8, 'value': '░'}\n",
      "{'x': 3, 'y': 7, 'value': '░'}\n",
      "{'x': 0, 'y': 0, 'value': ' '}\n",
      "{'x': 2, 'y': 7, 'value': ' '}\n",
      "{'x': 2, 'y': 9, 'value': ' '}\n",
      "{'x': 3, 'y': 6, 'value': ' '}\n",
      "{'x': 1, 'y': 7, 'value': '░'}\n",
      "{'x': 1, 'y': 9, 'value': '░'}\n",
      "{'x': 0, 'y': 7, 'value': ' '}\n",
      "{'x': 1, 'y': 6, 'value': ' '}\n",
      "{'x': 0, 'y': 9, 'value': '░'}\n",
      "{'x': 0, 'y': 8, 'value': ' '}\n",
      "{'x': 0, 'y': 6, 'value': '░'}\n",
      "{'x': 0, 'y': 5, 'value': ' '}\n",
      "{'x': 0, 'y': 4, 'value': '░'}\n",
      "{'x': 0, 'y': 3, 'value': ' '}\n",
      "{'x': 1, 'y': 4, 'value': '░'}\n",
      "{'x': 2, 'y': 4, 'value': ' '}\n",
      "{'x': 2, 'y': 3, 'value': ' '}\n"
     ]
    }
   ],
   "source": [
    "#dijkstra\n",
    "\n",
    "frontier = getNeighbors(starting_point, grid,0)\n",
    "came_from = {}\n",
    "cost_so_far = {}\n",
    "\n",
    "came_from[starting_point.repr] = None\n",
    "cost_so_far[starting_point.repr] = 0\n",
    "for f in frontier:\n",
    "    came_from[f.repr] = starting_point\n",
    "    cost_so_far[f.repr] = costs[f.repr]\n",
    "\n",
    "min_cost = 999999\n",
    "while frontier:\n",
    "    current = frontier.pop(0)\n",
    "    cost = cost_so_far[current.repr]\n",
    "    steps = current.steps\n",
    "    print(current)\n",
    "    for n in getNeighbors(current, grid,steps):\n",
    "        new_cost = cost + costs[n.repr] + steps\n",
    "        if n.value != 'E' and n.repr not in cost_so_far:\n",
    "            frontier.append(n)\n",
    "            came_from[n.repr] = current\n",
    "            cost_so_far[n.repr] = new_cost\n",
    "        elif n.value == 'E':\n",
    "            if new_cost <= min_cost:\n",
    "                came_from[n.repr] = current\n",
    "                min_steps = n.steps\n",
    "            pass\n"
   ]
  },
  {
   "cell_type": "code",
   "execution_count": 312,
   "metadata": {},
   "outputs": [
    {
     "data": {
      "text/plain": [
       "[[' ', ' ', '■', ' ', '░', ' ', '░', ' ', ' ', '░'],\n",
       " ['■', ' ', ' ', '■', '░', '■', ' ', '░', '■', '░'],\n",
       " ['░', ' ', '■', ' ', ' ', '■', '■', ' ', '░', ' '],\n",
       " ['░', ' ', ' ', '■', '■', '■', ' ', '░', ' ', '■'],\n",
       " [' ', ' ', '░', ' ', '░', ' ', '■', '■', '░', ' '],\n",
       " [' ', '░', ' ', ' ', 'S', ' ', '■', '░', ' ', ' '],\n",
       " ['░', ' ', ' ', '■', ' ', '░', ' ', '░', '■', '■'],\n",
       " ['░', '░', ' ', '■', '░', '■', '░', ' ', '■', ' '],\n",
       " [' ', '░', '░', ' ', '░', '░', '░', '■', '░', '░'],\n",
       " [' ', '■', '■', '■', ' ', ' ', '■', 'E', ' ', ' ']]"
      ]
     },
     "execution_count": 312,
     "metadata": {},
     "output_type": "execute_result"
    }
   ],
   "source": [
    "grid"
   ]
  },
  {
   "cell_type": "code",
   "execution_count": 311,
   "metadata": {},
   "outputs": [
    {
     "ename": "KeyError",
     "evalue": "'97'",
     "output_type": "error",
     "traceback": [
      "\u001b[0;31m---------------------------------------------------------------------------\u001b[0m",
      "\u001b[0;31mKeyError\u001b[0m                                  Traceback (most recent call last)",
      "Input \u001b[0;32mIn [311]\u001b[0m, in \u001b[0;36m<cell line: 2>\u001b[0;34m()\u001b[0m\n\u001b[1;32m      1\u001b[0m \u001b[38;5;66;03m#draw the path\u001b[39;00m\n\u001b[0;32m----> 2\u001b[0m current \u001b[38;5;241m=\u001b[39m \u001b[43mcame_from\u001b[49m\u001b[43m[\u001b[49m\u001b[43mending_point\u001b[49m\u001b[38;5;241;43m.\u001b[39;49m\u001b[43mrepr\u001b[49m\u001b[43m]\u001b[49m\n\u001b[1;32m      3\u001b[0m path \u001b[38;5;241m=\u001b[39m []\n\u001b[1;32m      4\u001b[0m \u001b[38;5;28;01mwhile\u001b[39;00m current\u001b[38;5;241m.\u001b[39mrepr \u001b[38;5;241m!=\u001b[39m starting_point\u001b[38;5;241m.\u001b[39mrepr:\n",
      "\u001b[0;31mKeyError\u001b[0m: '97'"
     ]
    }
   ],
   "source": [
    "#draw the path\n",
    "current = came_from[ending_point.repr]\n",
    "path = []\n",
    "while current.repr != starting_point.repr:\n",
    "    path.append(current.repr)\n",
    "    current = came_from[current.repr]\n",
    "for p in path:\n",
    "    cell = [int(x) for x in list(p)]\n",
    "    grid[cell[0]][cell[1]] = '*'"
   ]
  },
  {
   "cell_type": "code",
   "execution_count": null,
   "metadata": {},
   "outputs": [],
   "source": []
  }
 ],
 "metadata": {
  "kernelspec": {
   "display_name": "Python 3 (ipykernel)",
   "language": "python",
   "name": "python3"
  },
  "language_info": {
   "codemirror_mode": {
    "name": "ipython",
    "version": 3
   },
   "file_extension": ".py",
   "mimetype": "text/x-python",
   "name": "python",
   "nbconvert_exporter": "python",
   "pygments_lexer": "ipython3",
   "version": "3.10.4"
  }
 },
 "nbformat": 4,
 "nbformat_minor": 4
}
